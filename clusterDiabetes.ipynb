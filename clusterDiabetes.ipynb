{
 "cells": [
  {
   "cell_type": "code",
   "execution_count": 5,
   "metadata": {},
   "outputs": [],
   "source": [
    "from ucimlrepo import fetch_ucirepo \n",
    "import pandas as pd"
   ]
  },
  {
   "cell_type": "code",
   "execution_count": 6,
   "metadata": {},
   "outputs": [
    {
     "data": {
      "text/html": [
       "<div>\n",
       "<style scoped>\n",
       "    .dataframe tbody tr th:only-of-type {\n",
       "        vertical-align: middle;\n",
       "    }\n",
       "\n",
       "    .dataframe tbody tr th {\n",
       "        vertical-align: top;\n",
       "    }\n",
       "\n",
       "    .dataframe thead th {\n",
       "        text-align: right;\n",
       "    }\n",
       "</style>\n",
       "<table border=\"1\" class=\"dataframe\">\n",
       "  <thead>\n",
       "    <tr style=\"text-align: right;\">\n",
       "      <th></th>\n",
       "      <th>Pregnancies</th>\n",
       "      <th>Glucose</th>\n",
       "      <th>BloodPressure</th>\n",
       "      <th>SkinThickness</th>\n",
       "      <th>Insulin</th>\n",
       "      <th>BMI</th>\n",
       "      <th>DiabetesPedigreeFunction</th>\n",
       "      <th>Age</th>\n",
       "      <th>Outcome</th>\n",
       "    </tr>\n",
       "  </thead>\n",
       "  <tbody>\n",
       "    <tr>\n",
       "      <th>0</th>\n",
       "      <td>6</td>\n",
       "      <td>148</td>\n",
       "      <td>72</td>\n",
       "      <td>35</td>\n",
       "      <td>0</td>\n",
       "      <td>33.6</td>\n",
       "      <td>0.627</td>\n",
       "      <td>50</td>\n",
       "      <td>1</td>\n",
       "    </tr>\n",
       "    <tr>\n",
       "      <th>1</th>\n",
       "      <td>1</td>\n",
       "      <td>85</td>\n",
       "      <td>66</td>\n",
       "      <td>29</td>\n",
       "      <td>0</td>\n",
       "      <td>26.6</td>\n",
       "      <td>0.351</td>\n",
       "      <td>31</td>\n",
       "      <td>0</td>\n",
       "    </tr>\n",
       "    <tr>\n",
       "      <th>2</th>\n",
       "      <td>8</td>\n",
       "      <td>183</td>\n",
       "      <td>64</td>\n",
       "      <td>0</td>\n",
       "      <td>0</td>\n",
       "      <td>23.3</td>\n",
       "      <td>0.672</td>\n",
       "      <td>32</td>\n",
       "      <td>1</td>\n",
       "    </tr>\n",
       "    <tr>\n",
       "      <th>3</th>\n",
       "      <td>1</td>\n",
       "      <td>89</td>\n",
       "      <td>66</td>\n",
       "      <td>23</td>\n",
       "      <td>94</td>\n",
       "      <td>28.1</td>\n",
       "      <td>0.167</td>\n",
       "      <td>21</td>\n",
       "      <td>0</td>\n",
       "    </tr>\n",
       "    <tr>\n",
       "      <th>4</th>\n",
       "      <td>0</td>\n",
       "      <td>137</td>\n",
       "      <td>40</td>\n",
       "      <td>35</td>\n",
       "      <td>168</td>\n",
       "      <td>43.1</td>\n",
       "      <td>2.288</td>\n",
       "      <td>33</td>\n",
       "      <td>1</td>\n",
       "    </tr>\n",
       "  </tbody>\n",
       "</table>\n",
       "</div>"
      ],
      "text/plain": [
       "   Pregnancies  Glucose  BloodPressure  SkinThickness  Insulin   BMI  \\\n",
       "0            6      148             72             35        0  33.6   \n",
       "1            1       85             66             29        0  26.6   \n",
       "2            8      183             64              0        0  23.3   \n",
       "3            1       89             66             23       94  28.1   \n",
       "4            0      137             40             35      168  43.1   \n",
       "\n",
       "   DiabetesPedigreeFunction  Age  Outcome  \n",
       "0                     0.627   50        1  \n",
       "1                     0.351   31        0  \n",
       "2                     0.672   32        1  \n",
       "3                     0.167   21        0  \n",
       "4                     2.288   33        1  "
      ]
     },
     "execution_count": 6,
     "metadata": {},
     "output_type": "execute_result"
    }
   ],
   "source": [
    "kaggle_data = pd.read_csv(\"diabetes.csv\")\n",
    "kaggle_data.head()"
   ]
  },
  {
   "cell_type": "code",
   "execution_count": 7,
   "metadata": {},
   "outputs": [
    {
     "data": {
      "text/plain": [
       "Index(['HighBP', 'HighChol', 'CholCheck', 'BMI', 'Smoker', 'Stroke',\n",
       "       'HeartDiseaseorAttack', 'PhysActivity', 'Fruits', 'Veggies',\n",
       "       'HvyAlcoholConsump', 'AnyHealthcare', 'NoDocbcCost', 'GenHlth',\n",
       "       'MentHlth', 'PhysHlth', 'DiffWalk', 'Sex', 'Age', 'Education', 'Income',\n",
       "       'Diabetes_binary'],\n",
       "      dtype='object')"
      ]
     },
     "execution_count": 7,
     "metadata": {},
     "output_type": "execute_result"
    }
   ],
   "source": [
    "cdc = fetch_ucirepo(id=891)\n",
    "cdc_features = pd.DataFrame(cdc.data.features)\n",
    "cdc_target = pd.DataFrame(cdc.data.targets)\n",
    "cdc_data = pd.concat([cdc_features, cdc_target], axis=1)\n",
    "cdc_data.columns"
   ]
  },
  {
   "cell_type": "code",
   "execution_count": 8,
   "metadata": {},
   "outputs": [],
   "source": [
    "cols_to_drop = ['CholCheck', 'Smoker', 'Stroke', 'HeartDiseaseorAttack', 'PhysActivity',\n",
    "                'Fruits', 'Veggies', 'HvyAlcoholConsump', 'AnyHealthcare', 'NoDocbcCost',\n",
    "                'MentHlth', 'PhysHlth', 'DiffWalk', 'Education', 'Income']\n",
    "\n",
    "cdc_droppedData = cdc_data.drop(columns=cols_to_drop, axis=1)\n",
    "kaggle_drop = ['Pregnancies', 'SkinThickness','Insulin', 'DiabetesPedigreeFunction']\n",
    "kaggle_droppedData = kaggle_data.drop(columns=kaggle_drop, axis=1)\n"
   ]
  },
  {
   "cell_type": "code",
   "execution_count": 9,
   "metadata": {},
   "outputs": [
    {
     "data": {
      "text/plain": [
       "Index(['Glucose', 'BloodPressure', 'BMI', 'Age', 'Outcome'], dtype='object')"
      ]
     },
     "execution_count": 9,
     "metadata": {},
     "output_type": "execute_result"
    }
   ],
   "source": [
    "kaggle_droppedData.columns"
   ]
  },
  {
   "cell_type": "code",
   "execution_count": 10,
   "metadata": {},
   "outputs": [
    {
     "data": {
      "text/plain": [
       "Index(['HighBP', 'HighChol', 'BMI', 'GenHlth', 'Sex', 'Age',\n",
       "       'Diabetes_binary'],\n",
       "      dtype='object')"
      ]
     },
     "execution_count": 10,
     "metadata": {},
     "output_type": "execute_result"
    }
   ],
   "source": [
    "cdc_droppedData.columns"
   ]
  },
  {
   "cell_type": "code",
   "execution_count": 11,
   "metadata": {},
   "outputs": [],
   "source": [
    "# # Rename columns to match before concatenating\n",
    "data = cdc_droppedData.rename(columns={'Diabetes_binary': 'Diabetes'})\n",
    "kaggle_droppedData = kaggle_droppedData.rename(columns={'Outcome': 'Diabetes'})"
   ]
  },
  {
   "cell_type": "markdown",
   "metadata": {},
   "source": [
    "# Inicializacion del Modelo"
   ]
  },
  {
   "cell_type": "code",
   "execution_count": 32,
   "metadata": {},
   "outputs": [],
   "source": [
    "from kmodes.kprototypes import KPrototypes\n",
    "from random import sample\n",
    "from sklearn.neighbors import NearestNeighbors\n",
    "from numpy.random import uniform\n",
    "import numpy as np\n",
    "from math import isnan\n",
    "import matplotlib.pyplot as plt\n",
    "from sklearn.metrics import silhouette_score"
   ]
  },
  {
   "cell_type": "code",
   "execution_count": 43,
   "metadata": {},
   "outputs": [
    {
     "data": {
      "text/html": [
       "<div>\n",
       "<style scoped>\n",
       "    .dataframe tbody tr th:only-of-type {\n",
       "        vertical-align: middle;\n",
       "    }\n",
       "\n",
       "    .dataframe tbody tr th {\n",
       "        vertical-align: top;\n",
       "    }\n",
       "\n",
       "    .dataframe thead th {\n",
       "        text-align: right;\n",
       "    }\n",
       "</style>\n",
       "<table border=\"1\" class=\"dataframe\">\n",
       "  <thead>\n",
       "    <tr style=\"text-align: right;\">\n",
       "      <th></th>\n",
       "      <th>HighBP</th>\n",
       "      <th>HighChol</th>\n",
       "      <th>BMI</th>\n",
       "      <th>GenHlth</th>\n",
       "      <th>Sex</th>\n",
       "      <th>Age</th>\n",
       "      <th>Diabetes</th>\n",
       "    </tr>\n",
       "  </thead>\n",
       "  <tbody>\n",
       "    <tr>\n",
       "      <th>0</th>\n",
       "      <td>1</td>\n",
       "      <td>1</td>\n",
       "      <td>40</td>\n",
       "      <td>5</td>\n",
       "      <td>0</td>\n",
       "      <td>9</td>\n",
       "      <td>0</td>\n",
       "    </tr>\n",
       "    <tr>\n",
       "      <th>1</th>\n",
       "      <td>0</td>\n",
       "      <td>0</td>\n",
       "      <td>25</td>\n",
       "      <td>3</td>\n",
       "      <td>0</td>\n",
       "      <td>7</td>\n",
       "      <td>0</td>\n",
       "    </tr>\n",
       "    <tr>\n",
       "      <th>2</th>\n",
       "      <td>1</td>\n",
       "      <td>1</td>\n",
       "      <td>28</td>\n",
       "      <td>5</td>\n",
       "      <td>0</td>\n",
       "      <td>9</td>\n",
       "      <td>0</td>\n",
       "    </tr>\n",
       "    <tr>\n",
       "      <th>3</th>\n",
       "      <td>1</td>\n",
       "      <td>0</td>\n",
       "      <td>27</td>\n",
       "      <td>2</td>\n",
       "      <td>0</td>\n",
       "      <td>11</td>\n",
       "      <td>0</td>\n",
       "    </tr>\n",
       "    <tr>\n",
       "      <th>4</th>\n",
       "      <td>1</td>\n",
       "      <td>1</td>\n",
       "      <td>24</td>\n",
       "      <td>2</td>\n",
       "      <td>0</td>\n",
       "      <td>11</td>\n",
       "      <td>0</td>\n",
       "    </tr>\n",
       "  </tbody>\n",
       "</table>\n",
       "</div>"
      ],
      "text/plain": [
       "   HighBP  HighChol  BMI  GenHlth  Sex  Age  Diabetes\n",
       "0       1         1   40        5    0    9         0\n",
       "1       0         0   25        3    0    7         0\n",
       "2       1         1   28        5    0    9         0\n",
       "3       1         0   27        2    0   11         0\n",
       "4       1         1   24        2    0   11         0"
      ]
     },
     "execution_count": 43,
     "metadata": {},
     "output_type": "execute_result"
    }
   ],
   "source": [
    "data.head()\n",
    "\n",
    "\n",
    "\n",
    "\n",
    "\n",
    "\n",
    "\n",
    "\n",
    "\n"
   ]
  },
  {
   "cell_type": "code",
   "execution_count": 13,
   "metadata": {},
   "outputs": [
    {
     "data": {
      "text/html": [
       "<div>\n",
       "<style scoped>\n",
       "    .dataframe tbody tr th:only-of-type {\n",
       "        vertical-align: middle;\n",
       "    }\n",
       "\n",
       "    .dataframe tbody tr th {\n",
       "        vertical-align: top;\n",
       "    }\n",
       "\n",
       "    .dataframe thead th {\n",
       "        text-align: right;\n",
       "    }\n",
       "</style>\n",
       "<table border=\"1\" class=\"dataframe\">\n",
       "  <thead>\n",
       "    <tr style=\"text-align: right;\">\n",
       "      <th></th>\n",
       "      <th>BMI</th>\n",
       "      <th>Age</th>\n",
       "    </tr>\n",
       "  </thead>\n",
       "  <tbody>\n",
       "    <tr>\n",
       "      <th>0</th>\n",
       "      <td>40</td>\n",
       "      <td>9</td>\n",
       "    </tr>\n",
       "    <tr>\n",
       "      <th>1</th>\n",
       "      <td>25</td>\n",
       "      <td>7</td>\n",
       "    </tr>\n",
       "    <tr>\n",
       "      <th>2</th>\n",
       "      <td>28</td>\n",
       "      <td>9</td>\n",
       "    </tr>\n",
       "    <tr>\n",
       "      <th>3</th>\n",
       "      <td>27</td>\n",
       "      <td>11</td>\n",
       "    </tr>\n",
       "    <tr>\n",
       "      <th>4</th>\n",
       "      <td>24</td>\n",
       "      <td>11</td>\n",
       "    </tr>\n",
       "  </tbody>\n",
       "</table>\n",
       "</div>"
      ],
      "text/plain": [
       "   BMI  Age\n",
       "0   40    9\n",
       "1   25    7\n",
       "2   28    9\n",
       "3   27   11\n",
       "4   24   11"
      ]
     },
     "execution_count": 13,
     "metadata": {},
     "output_type": "execute_result"
    }
   ],
   "source": [
    "cat_cols = data[['HighBP', 'HighChol', 'GenHlth', 'Sex',\n",
    "       'Diabetes']]\n",
    "num_cols = data.drop(cat_cols, axis=1)\n",
    "num_cols.head()"
   ]
  },
  {
   "cell_type": "code",
   "execution_count": 14,
   "metadata": {},
   "outputs": [],
   "source": [
    "def hopkins(X):\n",
    "    d = X.shape[1]\n",
    "    #d = len(vars) # columns\n",
    "    n = len(X) # rows\n",
    "    m = int(0.1 * n) # heuristic from article [1]\n",
    "    nbrs = NearestNeighbors(n_neighbors=1).fit(X.values)\n",
    " \n",
    "    rand_X = sample(range(0, n, 1), m)\n",
    " \n",
    "    ujd = []\n",
    "    wjd = []\n",
    "    for j in range(0, m):\n",
    "        u_dist, _ = nbrs.kneighbors(uniform(np.amin(X,axis=0),np.amax(X,axis=0),d).reshape(1, -1), 2, return_distance=True)\n",
    "        ujd.append(u_dist[0][1])\n",
    "        w_dist, _ = nbrs.kneighbors(X.iloc[rand_X[j]].values.reshape(1, -1), 2, return_distance=True)\n",
    "        wjd.append(w_dist[0][1])\n",
    "    H = sum(ujd) / (sum(ujd) + sum(wjd))\n",
    "    if isnan(H):\n",
    "        print(ujd, wjd)\n",
    "        H = 0\n",
    "    \n",
    "    return H"
   ]
  },
  {
   "cell_type": "code",
   "execution_count": 21,
   "metadata": {},
   "outputs": [],
   "source": [
    "Data = data.sample(20000,random_state=41)\n",
    "Data.head()\n",
    "Data=Data.reset_index(drop=True)"
   ]
  },
  {
   "cell_type": "code",
   "execution_count": 22,
   "metadata": {},
   "outputs": [
    {
     "data": {
      "text/plain": [
       "0.9093926711093133"
      ]
     },
     "execution_count": 22,
     "metadata": {},
     "output_type": "execute_result"
    }
   ],
   "source": [
    "Num_features =Data.select_dtypes(include=[np.number]).columns\n",
    "hopkins(Data[Num_features])"
   ]
  },
  {
   "cell_type": "code",
   "execution_count": null,
   "metadata": {},
   "outputs": [],
   "source": [
    "# Print cluster sizes\n",
    "print(\"\\nCluster sizes:\")\n",
    "print(Data['Cluster'].value_counts())\n",
    "\n",
    "# Print cluster centroids\n",
    "centroids = kproto.cluster_centroids_\n",
    "\n",
    "print(\"\\nCluster centroids:\")\n",
    "for i, centroid in enumerate(centroids):\n",
    "    print(f\"\\nCluster {i}:\")\n",
    "    print(\"Numerical attribute (BMI):\", centroid[2])  # BMI está en el índice 2\n",
    "    print(\"Categorical attributes:\")\n",
    "    print(\"HighBP:\", int(centroid[0]))\n",
    "    print(\"HighChol:\", int(centroid[1]))\n",
    "    print(\"GenHlth:\", int(centroid[3]))\n",
    "    print(\"Sex:\", int(centroid[4]))\n",
    "    print(\"Age:\", int(centroid[5]))\n",
    "    print(\"Diabetes:\", int(centroid[6]))\n"
   ]
  },
  {
   "cell_type": "code",
   "execution_count": 25,
   "metadata": {},
   "outputs": [],
   "source": [
    "kproto = KPrototypes(n_clusters=5, random_state=42)\n",
    "\n",
    "# Fit model\n",
    "# Specify categorical columns indices (0,1,3,4,6 for HighBP, HighChol, GenHlth, Sex, Diabetes)\n",
    "cluster_labels = kproto.fit_predict(Data, categorical=[0,1,3,4,5,6])\n",
    "\n",
    "# Add cluster labels to original dataframe\n"
   ]
  },
  {
   "cell_type": "code",
   "execution_count": 37,
   "metadata": {},
   "outputs": [
    {
     "name": "stdout",
     "output_type": "stream",
     "text": [
      "[4 4 4 ... 1 0 3]\n"
     ]
    }
   ],
   "source": [
    "cluster_labels = np.array(cluster_labels).astype(int)\n",
    "print(cluster_labels)\n",
    "labels = pd.DataFrame(cluster_labels, columns=['Cluster'])\n",
    "cluster_data = pd.concat([Data, labels], axis=1)"
   ]
  },
  {
   "cell_type": "code",
   "execution_count": 45,
   "metadata": {},
   "outputs": [
    {
     "name": "stdout",
     "output_type": "stream",
     "text": [
      "\n",
      "Cluster sizes:\n",
      "Cluster\n",
      "3    6708\n",
      "0    6474\n",
      "4    4643\n",
      "1    1923\n",
      "2     252\n",
      "Name: count, dtype: int64\n",
      "[[22.3626815   0.          0.          2.          0.          9.\n",
      "   0.        ]\n",
      " [39.55590224  1.          1.          3.          0.          8.\n",
      "   0.        ]\n",
      " [58.20238095  1.          0.          3.          0.          8.\n",
      "   0.        ]\n",
      " [27.1627907   0.          0.          2.          1.         10.\n",
      "   0.        ]\n",
      " [31.94443248  1.          1.          3.          0.          8.\n",
      "   0.        ]]\n",
      "\n",
      "Cluster centroids:\n",
      "\n",
      "Cluster 0:\n",
      "Numerical attribute (BMI): 22.362681495211614\n",
      "Categorical attributes:\n",
      "HighBP: 0\n",
      "HighChol: 0\n",
      "GenHlth: 2\n",
      "Sex: 0\n",
      "Age: 9\n",
      "Diabetes: 0\n",
      "\n",
      "Cluster 1:\n",
      "Numerical attribute (BMI): 39.555902236089445\n",
      "Categorical attributes:\n",
      "HighBP: 1\n",
      "HighChol: 1\n",
      "GenHlth: 3\n",
      "Sex: 0\n",
      "Age: 8\n",
      "Diabetes: 0\n",
      "\n",
      "Cluster 2:\n",
      "Numerical attribute (BMI): 58.20238095238095\n",
      "Categorical attributes:\n",
      "HighBP: 1\n",
      "HighChol: 0\n",
      "GenHlth: 3\n",
      "Sex: 0\n",
      "Age: 8\n",
      "Diabetes: 0\n",
      "\n",
      "Cluster 3:\n",
      "Numerical attribute (BMI): 27.162790697674417\n",
      "Categorical attributes:\n",
      "HighBP: 0\n",
      "HighChol: 0\n",
      "GenHlth: 2\n",
      "Sex: 1\n",
      "Age: 10\n",
      "Diabetes: 0\n",
      "\n",
      "Cluster 4:\n",
      "Numerical attribute (BMI): 31.944432479000646\n",
      "Categorical attributes:\n",
      "HighBP: 1\n",
      "HighChol: 1\n",
      "GenHlth: 3\n",
      "Sex: 0\n",
      "Age: 8\n",
      "Diabetes: 0\n"
     ]
    }
   ],
   "source": [
    "# Print cluster sizes\n",
    "print(\"\\nCluster sizes:\")\n",
    "print(cluster_data['Cluster'].value_counts())\n",
    "\n",
    "# Print cluster centroids\n",
    "centroids = kproto.cluster_centroids_\n",
    "print(centroids)\n",
    "\n",
    "print(\"\\nCluster centroids:\")\n",
    "for i, centroid in enumerate(centroids):\n",
    "    print(f\"\\nCluster {i}:\")\n",
    "    print(\"Numerical attribute (BMI):\", centroid[0])  # BMI está en el índice 2\n",
    "    print(\"Categorical attributes:\")\n",
    "    print(\"HighBP:\", int(centroid[1]))\n",
    "    print(\"HighChol:\", int(centroid[2]))\n",
    "    print(\"GenHlth:\", int(centroid[3]))\n",
    "    print(\"Sex:\", int(centroid[4]))\n",
    "    print(\"Age:\", int(centroid[5]))\n",
    "    print(\"Diabetes:\", int(centroid[6]))"
   ]
  },
  {
   "cell_type": "code",
   "execution_count": 47,
   "metadata": {},
   "outputs": [
    {
     "name": "stdout",
     "output_type": "stream",
     "text": [
      "         HighBP  HighChol  GenHlth  Sex  Diabetes        BMI  Age\n",
      "Cluster                                                          \n",
      "0             0         0        2    0         0  22.362681    9\n",
      "1             1         1        3    0         0  39.555902    8\n",
      "2             1         0        3    0         0  58.202381    8\n",
      "3             0         0        2    1         0  27.162791   10\n",
      "4             1         1        3    0         0  31.944432    8\n"
     ]
    }
   ],
   "source": [
    "cluster_profiles = cluster_data.groupby('Cluster').agg({\n",
    "    'HighBP': lambda x: x.value_counts().index[0],\n",
    "    'HighChol': lambda x: x.value_counts().index[0],\n",
    "    'GenHlth': lambda x: x.value_counts().index[0],\n",
    "    'Sex': lambda x: x.value_counts().index[0],\n",
    "    'Diabetes': lambda x: x.value_counts().index[0],\n",
    "    'BMI': 'mean',\n",
    "    'Age': lambda x: x.value_counts().index[0]\n",
    "})\n",
    "\n",
    "print(cluster_profiles)\n"
   ]
  },
  {
   "cell_type": "markdown",
   "metadata": {},
   "source": [
    "# Exportar Modelo"
   ]
  },
  {
   "cell_type": "code",
   "execution_count": 48,
   "metadata": {},
   "outputs": [],
   "source": [
    "import pickle"
   ]
  },
  {
   "cell_type": "code",
   "execution_count": 49,
   "metadata": {},
   "outputs": [],
   "source": [
    "# Save the trained model to a file\n",
    "with open('kproto_model.pkl', 'wb') as f:\n",
    "    pickle.dump(kproto, f)\n"
   ]
  }
 ],
 "metadata": {
  "kernelspec": {
   "display_name": "Python 3",
   "language": "python",
   "name": "python3"
  },
  "language_info": {
   "codemirror_mode": {
    "name": "ipython",
    "version": 3
   },
   "file_extension": ".py",
   "mimetype": "text/x-python",
   "name": "python",
   "nbconvert_exporter": "python",
   "pygments_lexer": "ipython3",
   "version": "3.12.10"
  }
 },
 "nbformat": 4,
 "nbformat_minor": 2
}
